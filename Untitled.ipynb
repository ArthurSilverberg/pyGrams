{
 "cells": [
  {
   "cell_type": "code",
   "execution_count": 7,
   "metadata": {},
   "outputs": [],
   "source": [
    "import pandas as pd\n",
    "import numpy as np\n",
    "import matplotlib.pyplot as plt"
   ]
  },
  {
   "cell_type": "code",
   "execution_count": 8,
   "metadata": {},
   "outputs": [],
   "source": [
    "tfidf_df = pd.read_pickle('/Users/michaelhodge/PycharmProjects/patent_app_detect/outputs/tfidf/USPTO-random-100000-tfidf-mdf-0point05.pkl.bz2')"
   ]
  },
  {
   "cell_type": "code",
   "execution_count": 9,
   "metadata": {},
   "outputs": [],
   "source": [
    "with open('/Users/michaelhodge/PycharmProjects/patent_app_detect/outputs/reports/report_tech_unigram_mdf_0point05.txt') as f:\n",
    "    unigrams = f.readlines()"
   ]
  },
  {
   "cell_type": "code",
   "execution_count": 10,
   "metadata": {},
   "outputs": [],
   "source": [
    "unigrams = [x.split(\"  \")[0] for x in unigrams] #Removes all after big space\n",
    "unigrams = [x.split(\" \")[1] for x in unigrams] #Removes first space"
   ]
  },
  {
   "cell_type": "code",
   "execution_count": 36,
   "metadata": {},
   "outputs": [],
   "source": [
    "def make_histogram(string):\n",
    "    term = [tfidf_df[2].index(i) for i in tfidf_df[2] if string == i]\n",
    "    cum_term_freq = tfidf_df[1][:,term].toarray()\n",
    "    cum_term_freq_nonzero = cum_term_freq[np.nonzero(cum_term_freq)]\n",
    "    labels, counts = np.unique(cum_term_freq_nonzero, return_counts=True)\n",
    "    return term, labels, counts"
   ]
  },
  {
   "cell_type": "code",
   "execution_count": 50,
   "metadata": {},
   "outputs": [],
   "source": [
    "def histogram_difference(counts):\n",
    "    diff = np.diff(counts)\n",
    "    return diff"
   ]
  },
  {
   "cell_type": "code",
   "execution_count": 48,
   "metadata": {},
   "outputs": [],
   "source": [
    "def print_histogram(term, labels, counts):\n",
    "    plt.bar(labels, counts, align='center')\n",
    "    plt.ylabel('number of docs')\n",
    "    plt.xlabel('term frequency')\n",
    "    plt.title('histogram: %s' %tfidf_df[2][term[0]])\n",
    "    plt.gca().set_xticks(labels)\n",
    "    plt.show()"
   ]
  },
  {
   "cell_type": "code",
   "execution_count": 49,
   "metadata": {},
   "outputs": [
    {
     "name": "stdout",
     "output_type": "stream",
     "text": [
      "[ 1  2  3  4  5  6  7  8  9 10 11 12 13 14 15 16 17 18 19 20 22]\n",
      "[907 808 588 484 345 266 161 136  79  58  36  19  18   8   7   4   4   5\n",
      "   1   2   1]\n"
     ]
    }
   ],
   "source": [
    "for top_term in unigrams[0:1]:\n",
    "    term, labels, counts = make_histogram(top_term)\n",
    "    \n",
    "    print(labels)\n",
    "    print(counts)"
   ]
  },
  {
   "cell_type": "code",
   "execution_count": null,
   "metadata": {},
   "outputs": [],
   "source": [
    "for top_term in unigrams[0:100]:\n",
    "    term, labels, counts = make_histogram(top_term)\n",
    "    print_histogram(term, labels, counts)"
   ]
  }
 ],
 "metadata": {
  "kernelspec": {
   "display_name": "Python 3",
   "language": "python",
   "name": "python3"
  },
  "language_info": {
   "codemirror_mode": {
    "name": "ipython",
    "version": 3
   },
   "file_extension": ".py",
   "mimetype": "text/x-python",
   "name": "python",
   "nbconvert_exporter": "python",
   "pygments_lexer": "ipython3",
   "version": "3.6.5"
  }
 },
 "nbformat": 4,
 "nbformat_minor": 2
}
